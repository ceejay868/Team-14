{
 "cells": [
  {
   "cell_type": "markdown",
   "metadata": {},
   "source": [
    "TTC Delay Predictor (Team 14) Project Source Code\n",
    "Goal: Develop a machine learning regression model to predict the average subway delay (in minutes) using historical TTC subway delay data.\n",
    "Scope: Analyze factors such as time of day, station location, and train line to uncover trends and improve predictions.\n",
    "Source of Data: https://open.toronto.ca/dataset/ttc-subway-delay-data/"
   ]
  },
  {
   "cell_type": "code",
   "execution_count": 1,
   "metadata": {},
   "outputs": [],
   "source": [
    "# Importing Necessary Libraries\n",
    "# # Data Handling Libraries\n",
    "import pandas as pd\n",
    "import numpy as np\n",
    "import os\n",
    "import glob\n",
    "# Data Visualization Libraries\n",
    "import matplotlib.pyplot as plt\n",
    "import seaborn as sns\n",
    "# Feature Engineering Libraries\n",
    "from datetime import datetime\n",
    "# Machine Learning Models Libraries\n",
    "from sklearn.model_selection import train_test_split\n",
    "from sklearn.preprocessing import StandardScaler, OneHotEncoder\n",
    "from sklearn.pipeline import Pipeline\n",
    "from sklearn.compose import ColumnTransformer\n",
    "from sklearn.linear_model import LinearRegression\n",
    "# Model Evaluation Libraries\n",
    "from sklearn.metrics import mean_absolute_error, mean_squared_error, r2_score"
   ]
  },
  {
   "cell_type": "markdown",
   "metadata": {},
   "source": [
    "Data Collection and Exploration"
   ]
  },
  {
   "cell_type": "code",
   "execution_count": 9,
   "metadata": {},
   "outputs": [
    {
     "name": "stdout",
     "output_type": "stream",
     "text": [
      "❌ Failed to load dataset: read_csv() got an unexpected keyword argument 'error_bad_lines'\n"
     ]
    }
   ],
   "source": [
    "import pandas as pd\n",
    "\n",
    "# GitHub Raw File URL\n",
    "url = \"https://github.com/ceejay868/Team-14/blob/main/data/combined/ttc-subway-delay-data.csv\"\n",
    "\n",
    "# Load dataset directly from GitHub\n",
    "try:\n",
    "    df = pd.read_csv(url, sep=\",\", error_bad_lines=False, encoding=\"utf-8\", engine=\"python\")\n",
    "    print(f\"✅ Successfully loaded dataset from GitHub!\")\n",
    "    print(f\"Dataset Shape: {df.shape}\")\n",
    "    print(\"First 5 Rows:\")\n",
    "    print(df.head())\n",
    "except Exception as e:\n",
    "    print(f\"❌ Failed to load dataset: {e}\")"
   ]
  },
  {
   "cell_type": "code",
   "execution_count": 3,
   "metadata": {},
   "outputs": [
    {
     "name": "stdout",
     "output_type": "stream",
     "text": [
      "File not found: data\\combined\\ttc-subway-delays-combined.csv. Please check if the path is correct.\n"
     ]
    },
    {
     "ename": "NameError",
     "evalue": "name 'df' is not defined",
     "output_type": "error",
     "traceback": [
      "\u001b[1;31m---------------------------------------------------------------------------\u001b[0m",
      "\u001b[1;31mNameError\u001b[0m                                 Traceback (most recent call last)",
      "Cell \u001b[1;32mIn[3], line 18\u001b[0m\n\u001b[0;32m     15\u001b[0m     \u001b[38;5;28mprint\u001b[39m(\u001b[38;5;124mf\u001b[39m\u001b[38;5;124m\"\u001b[39m\u001b[38;5;124mError loading file: \u001b[39m\u001b[38;5;132;01m{\u001b[39;00me\u001b[38;5;132;01m}\u001b[39;00m\u001b[38;5;124m\"\u001b[39m)\n\u001b[0;32m     17\u001b[0m \u001b[38;5;66;03m# Display the first few rows\u001b[39;00m\n\u001b[1;32m---> 18\u001b[0m \u001b[43mdf\u001b[49m\u001b[38;5;241m.\u001b[39mhead()\n",
      "\u001b[1;31mNameError\u001b[0m: name 'df' is not defined"
     ]
    }
   ],
   "source": [
    "# Data Acquisition\n",
    "\n",
    "# Defining the file path relative to the current working directory\n",
    "file_path = os.path.join(\"data\", \"combined\", \"ttc-subway-delays-combined.csv\")\n",
    "\n",
    "# Loading the dataset into a Pandas DataFrame\n",
    "try:\n",
    "    df = pd.read_csv(file_path)\n",
    "    print(f\"Successfully loaded dataset: {file_path}\")\n",
    "    print(f\"Dataset Shape: {df.shape}\")\n",
    "    print(f\"Columns: {list(df.columns)}\")\n",
    "except FileNotFoundError:\n",
    "    print(f\"File not found: {file_path}. Please check if the path is correct.\")\n",
    "except Exception as e:\n",
    "    print(f\"Error loading file: {e}\")\n",
    "\n",
    "# Display the first few rows\n",
    "df.head()\n"
   ]
  },
  {
   "cell_type": "markdown",
   "metadata": {},
   "source": []
  }
 ],
 "metadata": {
  "kernelspec": {
   "display_name": "faraz_shahid",
   "language": "python",
   "name": "python3"
  },
  "language_info": {
   "codemirror_mode": {
    "name": "ipython",
    "version": 3
   },
   "file_extension": ".py",
   "mimetype": "text/x-python",
   "name": "python",
   "nbconvert_exporter": "python",
   "pygments_lexer": "ipython3",
   "version": "3.9.15"
  }
 },
 "nbformat": 4,
 "nbformat_minor": 2
}
